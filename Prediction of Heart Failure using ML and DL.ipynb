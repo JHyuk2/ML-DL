{
 "cells": [
  {
   "cell_type": "markdown",
   "metadata": {},
   "source": [
    "# Summary\n",
    "\n",
    "병원 진료데이터의 기록을 바탕으로 질병을 예측, 평가.\n",
    "\n",
    "특히 국내 사망 원인의 큰 비중을 차지하고 있는 심장병과 관련된 데이터를 바탕으로 모델을 예측한다.\n",
    "\n",
    "> <img src=\"https://encrypted-tbn0.gstatic.com/images?q=tbn%3AANd9GcRVcNhoJeMapy_0AOZhDEXdipjMfrtWORcpiw&usqp=CAU\" width=\"400px\" height=\"300px\">  \n",
    "> 심장병은 암, 만성질환과 같은 악성신생물을 제외하고 가장 높은 사망 원인으로 꼽힌다.\n",
    "\n",
    "### 진행 순서\n",
    "\n",
    "- 1. 데이터 불러오기 (출처 명시)\n",
    "    - Kaggle ~ Heart Disease UCI(https://www.kaggle.com/ronitf/heart-disease-uci)\n",
    "    \n",
    "- 2. 학습 모델 설정\n",
    "    - XGboost, Adam 사용시의 비교 및 Ensemble을 통한 예측도 상승을 기대 \n",
    "    - 1) Supervised Learning\n",
    "        - Random Forest\n",
    "        - SVM\n",
    "    - 2) Unsupervised Learning\n",
    "        - KNN\n",
    "    - 3) Using Neural Networks\n",
    "        - RNN\n",
    "    \n",
    "- 3. 예측/평가\n",
    "    - Confusion Matrix\n",
    "    - F1-score\n",
    "    - k-fold cross validation\n",
    "    \n",
    "- 4. 추가 과제\n",
    "    - 앙상블 사용 시 hard voting이 아닌, 한 파이프라인 안에서 진행될 수 있도록 진행"
   ]
  },
  {
   "cell_type": "markdown",
   "metadata": {},
   "source": [
    "# 1. Load Modules & Dataset"
   ]
  },
  {
   "cell_type": "code",
   "execution_count": 1,
   "metadata": {},
   "outputs": [],
   "source": [
    "import numpy as np\n",
    "import pandas as pd"
   ]
  },
  {
   "cell_type": "code",
   "execution_count": null,
   "metadata": {},
   "outputs": [],
   "source": []
  }
 ],
 "metadata": {
  "kernelspec": {
   "display_name": "Python 3.7.3 64-bit",
   "language": "python",
   "name": "python37364bit5992200e62d14719bcdeb39d5720987a"
  },
  "language_info": {
   "codemirror_mode": {
    "name": "ipython",
    "version": 3
   },
   "file_extension": ".py",
   "mimetype": "text/x-python",
   "name": "python",
   "nbconvert_exporter": "python",
   "pygments_lexer": "ipython3",
   "version": "3.7.3"
  }
 },
 "nbformat": 4,
 "nbformat_minor": 4
}
