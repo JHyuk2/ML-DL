{
 "cells": [
  {
   "cell_type": "markdown",
   "metadata": {},
   "source": [
    "# 표본 사이즈 구하기"
   ]
  },
  {
   "cell_type": "code",
   "execution_count": 2,
   "metadata": {},
   "outputs": [],
   "source": [
    "import math\n",
    "\n",
    "def get_sample_size(N, reliability=95, p=0.5, e=0.03):\n",
    "    confidential_list = [80, 85, 90, 95, 99]\n",
    "    z_scores = [1.28, 1.44, 1.65, 1.96, 2.58]\n",
    "    \n",
    "    idx = confidential_list.index(reliability)\n",
    "    z = z_scores[idx]\n",
    "    \n",
    "    # 분자 / 분모\n",
    "    numerator = (z**2 * p*(1-p)) / (e**2)\n",
    "    denominator = 1 + (numerator/N)\n",
    "    result = numerator / denominator\n",
    "    return math.ceil(result)"
   ]
  },
  {
   "cell_type": "code",
   "execution_count": 12,
   "metadata": {},
   "outputs": [
    {
     "name": "stdout",
     "output_type": "stream",
     "text": [
      "1816\n"
     ]
    }
   ],
   "source": [
    "# 사용 예시\n",
    "N = 100000\n",
    "tmp = get_sample_size(N, reliability = 99, p=0.5)\n",
    "print(tmp)"
   ]
  },
  {
   "cell_type": "code",
   "execution_count": null,
   "metadata": {},
   "outputs": [],
   "source": []
  }
 ],
 "metadata": {
  "kernelspec": {
   "display_name": "Python 3",
   "language": "python",
   "name": "python3"
  }
 },
 "nbformat": 4,
 "nbformat_minor": 2
}
