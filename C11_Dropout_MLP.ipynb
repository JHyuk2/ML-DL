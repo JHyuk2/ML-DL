{
 "cells": [
  {
   "cell_type": "code",
   "execution_count": 7,
   "metadata": {},
   "outputs": [],
   "source": [
    "from keras.datasets import mnist\n",
    "from tensorflow.keras import models\n",
    "from tensorflow.keras import layers\n",
    "from tensorflow.keras.utils import to_categorical"
   ]
  },
  {
   "cell_type": "code",
   "execution_count": 10,
   "metadata": {},
   "outputs": [],
   "source": [
    "(train_images, train_labels), (test_images, test_labels) = mnist.load_data()"
   ]
  },
  {
   "cell_type": "code",
   "execution_count": 11,
   "metadata": {},
   "outputs": [],
   "source": [
    "train_images = train_images.reshape((60000,28*28))\n",
    "train_images = train_images.astype('float32')/ 255\n",
    "test_images = test_images.reshape((10000,28*28))\n",
    "test_images = test_images.astype('float32')/ 255\n",
    "\n",
    "train_labels = to_categorical(train_labels)\n",
    "test_labels = to_categorical(test_labels)"
   ]
  },
  {
   "cell_type": "code",
   "execution_count": 12,
   "metadata": {},
   "outputs": [],
   "source": [
    "model = models.Sequential()\n",
    "model.add(layers.Dense(512,activation='relu', input_shape=(28*28,)))\n",
    "model.add(layers.Dense(10,activation='softmax'))\n",
    "model.compile(optimizer='rmsprop',\n",
    "              loss='categorical_crossentropy',\n",
    "              metrics=['accuracy'])"
   ]
  },
  {
   "cell_type": "code",
   "execution_count": 15,
   "metadata": {},
   "outputs": [
    {
     "name": "stdout",
     "output_type": "stream",
     "text": [
      "Model: \"sequential\"\n",
      "_________________________________________________________________\n",
      "Layer (type)                 Output Shape              Param #   \n",
      "=================================================================\n",
      "dense (Dense)                (None, 512)               401920    \n",
      "_________________________________________________________________\n",
      "dense_1 (Dense)              (None, 10)                5130      \n",
      "=================================================================\n",
      "Total params: 407,050\n",
      "Trainable params: 407,050\n",
      "Non-trainable params: 0\n",
      "_________________________________________________________________\n"
     ]
    }
   ],
   "source": [
    "model.summary()"
   ]
  },
  {
   "cell_type": "code",
   "execution_count": 18,
   "metadata": {
    "scrolled": true
   },
   "outputs": [
    {
     "name": "stdout",
     "output_type": "stream",
     "text": [
      "Epoch 1/10\n",
      "469/469 [==============================] - 8s 18ms/step - loss: 0.0078 - accuracy: 0.9978\n",
      "Epoch 2/10\n",
      "469/469 [==============================] - 7s 16ms/step - loss: 0.0062 - accuracy: 0.9983\n",
      "Epoch 3/10\n",
      "469/469 [==============================] - 8s 17ms/step - loss: 0.0046 - accuracy: 0.9987\n",
      "Epoch 4/10\n",
      "469/469 [==============================] - 8s 16ms/step - loss: 0.0038 - accuracy: 0.9990\n",
      "Epoch 5/10\n",
      "469/469 [==============================] - 9s 18ms/step - loss: 0.0025 - accuracy: 0.9994\n",
      "Epoch 6/10\n",
      "469/469 [==============================] - 10s 20ms/step - loss: 0.0022 - accuracy: 0.9995\n",
      "Epoch 7/10\n",
      "469/469 [==============================] - 11s 24ms/step - loss: 0.0020 - accuracy: 0.9994\n",
      "Epoch 8/10\n",
      "469/469 [==============================] - 12s 25ms/step - loss: 0.0015 - accuracy: 0.9996 ETA: 0s - loss: 0.001\n",
      "Epoch 9/10\n",
      "469/469 [==============================] - 24s 50ms/step - loss: 9.9923e-04 - accuracy: 0.9998\n",
      "Epoch 10/10\n",
      "469/469 [==============================] - 13s 27ms/step - loss: 8.6485e-04 - accuracy: 0.9998\n"
     ]
    },
    {
     "data": {
      "text/plain": [
       "<tensorflow.python.keras.callbacks.History at 0x20d09bae400>"
      ]
     },
     "execution_count": 18,
     "metadata": {},
     "output_type": "execute_result"
    }
   ],
   "source": [
    "model.fit(train_images, train_labels, epochs=10, batch_size=128)"
   ]
  },
  {
   "cell_type": "code",
   "execution_count": 19,
   "metadata": {},
   "outputs": [
    {
     "name": "stdout",
     "output_type": "stream",
     "text": [
      "313/313 [==============================] - ETA: 0s - loss: 0.0914 - accuracy: 0.98 - 1s 4ms/step - loss: 0.0958 - accuracy: 0.9821\n"
     ]
    },
    {
     "data": {
      "text/plain": [
       "0.9821000099182129"
      ]
     },
     "execution_count": 19,
     "metadata": {},
     "output_type": "execute_result"
    }
   ],
   "source": [
    "test_loss, test_acc = model.evaluate(test_images, test_labels)\n",
    "test_acc"
   ]
  },
  {
   "cell_type": "code",
   "execution_count": 20,
   "metadata": {},
   "outputs": [],
   "source": [
    "model2 = models.Sequential()\n",
    "model2.add(layers.Dense(512,activation='relu', input_shape=(28*28,)))\n",
    "model2.add(layers.Dropout(0.2,noise_shape=None, seed = None))\n",
    "model2.add(layers.Dense(10,activation='softmax'))\n",
    "model2.compile(optimizer='rmsprop',\n",
    "              loss='categorical_crossentropy',\n",
    "              metrics=['accuracy'])"
   ]
  },
  {
   "cell_type": "code",
   "execution_count": 22,
   "metadata": {},
   "outputs": [
    {
     "name": "stdout",
     "output_type": "stream",
     "text": [
      "Epoch 1/10\n",
      "469/469 [==============================] - 8s 18ms/step - loss: 0.2710 - accuracy: 0.9225\n",
      "Epoch 2/10\n",
      "469/469 [==============================] - 9s 19ms/step - loss: 0.1180 - accuracy: 0.9652\n",
      "Epoch 3/10\n",
      "469/469 [==============================] - 10s 21ms/step - loss: 0.0821 - accuracy: 0.9755\n",
      "Epoch 4/10\n",
      "469/469 [==============================] - 12s 25ms/step - loss: 0.0638 - accuracy: 0.9807\n",
      "Epoch 5/10\n",
      "469/469 [==============================] - 18s 38ms/step - loss: 0.0514 - accuracy: 0.98474s - loss: 0 - ETA: 2s - loss: 0.0516 - accu - ETA: 1s - l - ETA: 0s - loss: 0\n",
      "Epoch 6/10\n",
      "469/469 [==============================] - 20s 42ms/step - loss: 0.0418 - accuracy: 0.9872: 14s - loss: 0.03\n",
      "Epoch 7/10\n",
      "469/469 [==============================] - 12s 25ms/step - loss: 0.0359 - accuracy: 0.9892\n",
      "Epoch 8/10\n",
      "469/469 [==============================] - 9s 20ms/step - loss: 0.0311 - accuracy: 0.9904\n",
      "Epoch 9/10\n",
      "469/469 [==============================] - 8s 17ms/step - loss: 0.0278 - accuracy: 0.9915\n",
      "Epoch 10/10\n",
      "469/469 [==============================] - 9s 19ms/step - loss: 0.0230 - accuracy: 0.9926\n"
     ]
    },
    {
     "data": {
      "text/plain": [
       "<tensorflow.python.keras.callbacks.History at 0x20d0899ca58>"
      ]
     },
     "execution_count": 22,
     "metadata": {},
     "output_type": "execute_result"
    }
   ],
   "source": [
    "model2.fit(train_images, train_labels, epochs=10, batch_size=128)"
   ]
  },
  {
   "cell_type": "code",
   "execution_count": 23,
   "metadata": {},
   "outputs": [
    {
     "name": "stdout",
     "output_type": "stream",
     "text": [
      "313/313 [==============================] - 1s 2ms/step - loss: 0.0666 - accuracy: 0.9822\n"
     ]
    },
    {
     "data": {
      "text/plain": [
       "0.982200026512146"
      ]
     },
     "execution_count": 23,
     "metadata": {},
     "output_type": "execute_result"
    }
   ],
   "source": [
    "test_loss, test_acc = model2.evaluate(test_images, test_labels)\n",
    "test_acc"
   ]
  },
  {
   "cell_type": "code",
   "execution_count": null,
   "metadata": {},
   "outputs": [],
   "source": []
  }
 ],
 "metadata": {
  "kernelspec": {
   "display_name": "Python 3.7.3 64-bit",
   "language": "python",
   "name": "python37364bit5992200e62d14719bcdeb39d5720987a"
  },
  "language_info": {
   "codemirror_mode": {
    "name": "ipython",
    "version": 3
   },
   "file_extension": ".py",
   "mimetype": "text/x-python",
   "name": "python",
   "nbconvert_exporter": "python",
   "pygments_lexer": "ipython3",
   "version": "3.7.3"
  }
 },
 "nbformat": 4,
 "nbformat_minor": 2
}
