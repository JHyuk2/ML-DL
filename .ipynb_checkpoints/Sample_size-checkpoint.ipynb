{
 "cells": [
  {
   "cell_type": "markdown",
   "metadata": {},
   "source": [
    "# 표본 사이즈 구하기"
   ]
  },
  {
   "cell_type": "code",
   "execution_count": 27,
   "metadata": {},
   "outputs": [],
   "source": [
    "import math\n",
    "\n",
    "def get_sample_size(N, reliability=95, p=0.5, e=0.03):\n",
    "    confidential_list = [80, 85, 90, 95, 99]\n",
    "    z_scores = [1.28, 1.44, 1.65, 1.96, 2.58]\n",
    "    \n",
    "    idx = confidential_list.index(reliability)\n",
    "    z = z_scores[idx]\n",
    "    \n",
    "    # 분자 / 분모\n",
    "    numerator = (z**2 * p*(1-p)) / (e**2)\n",
    "    denominator = 1 + (numerator/N)\n",
    "    result = numerator / denominator\n",
    "    return round(result)"
   ]
  },
  {
   "cell_type": "code",
   "execution_count": 26,
   "metadata": {},
   "outputs": [
    {
     "name": "stdout",
     "output_type": "stream",
     "text": [
      "1815\n"
     ]
    }
   ],
   "source": [
    "# 사용 예시\n",
    "N = 100000\n",
    "tmp = get_sample_size(N, reliability = 99, p=0.5)\n",
    "print(tmp)"
   ]
  },
  {
   "cell_type": "code",
   "execution_count": null,
   "metadata": {},
   "outputs": [],
   "source": []
  }
 ],
 "metadata": {
  "kernelspec": {
   "display_name": "Python 3",
   "language": "python",
   "name": "python3"
  },
  "language_info": {
   "codemirror_mode": {
    "name": "ipython",
    "version": 3
   },
   "file_extension": ".py",
   "mimetype": "text/x-python",
   "name": "python",
   "nbconvert_exporter": "python",
   "pygments_lexer": "ipython3",
   "version": "3.7.3"
  }
 },
 "nbformat": 4,
 "nbformat_minor": 2
}
