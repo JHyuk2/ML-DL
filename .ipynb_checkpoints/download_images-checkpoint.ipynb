{
 "cells": [
  {
   "cell_type": "code",
   "execution_count": null,
   "metadata": {},
   "outputs": [],
   "source": [
    "import os\n",
    "import urllib\n",
    "import tarfile\n",
    "\n",
    "import pandas as pd\n",
    "import numpy as np"
   ]
  },
  {
   "cell_type": "code",
   "execution_count": null,
   "metadata": {},
   "outputs": [],
   "source": [
    "FILES = ['bicycles.txt', 'cars.txt']"
   ]
  },
  {
   "cell_type": "code",
   "execution_count": null,
   "metadata": {},
   "outputs": [],
   "source": [
    "data = {'filename':[], 'label':[]}\n",
    "dirs = []\n",
    "\n",
    "for file in FILES:\n",
    "    file_dir = os.path.join(file.split('.')[0])\n",
    "    dirs.append(file_dir)\n",
    "    if not os.path.exists(file_dir):\n",
    "        os.makedirs(file_dir)\n",
    "    with open(file) as f:\n",
    "        line = f.readline()\n",
    "        i=0\n",
    "        while line:\n",
    "            filename = os.path.join(file_dir,'{}'.format(i))\n",
    "            urllib.request.urlretrieve(line,filename)\n",
    "            data['filename'].append(filename.replace('\\\\','/'))\n",
    "            data['label'].append(file_dir)\n",
    "            \n",
    "            line = f.readline()\n",
    "            i = i+1          \n",
    "            "
   ]
  },
  {
   "cell_type": "code",
   "execution_count": null,
   "metadata": {},
   "outputs": [],
   "source": [
    "label_map = {label:k for k,label in enumerate(set(data['label']))}\n",
    "\n",
    "data['label'] = [label_map[label] for label in data['label']]\n",
    "df = pd.DataFrame.from_dict(data)\n",
    "\n",
    "mask = np.random.rand(len(df)) < 0.8\n",
    "df[mask].to_csv('train.csv',index=False,header=False)\n",
    "df[~mask].to_csv('valid.csv',index=False,header=False)"
   ]
  },
  {
   "cell_type": "code",
   "execution_count": null,
   "metadata": {},
   "outputs": [],
   "source": [
    "with tarfile.open('images.tar', 'w') as tar:\n",
    "    for dir_ in dirs:\n",
    "        tar.add(dir_)\n",
    "    tar.add('train.csv')\n",
    "    tar.add('valid.csv')"
   ]
  }
 ],
 "metadata": {
  "kernelspec": {
   "display_name": "Python 3",
   "language": "python",
   "name": "python3"
  },
  "language_info": {
   "codemirror_mode": {
    "name": "ipython",
    "version": 3
   },
   "file_extension": ".py",
   "mimetype": "text/x-python",
   "name": "python",
   "nbconvert_exporter": "python",
   "pygments_lexer": "ipython3",
   "version": "3.7.3"
  }
 },
 "nbformat": 4,
 "nbformat_minor": 4
}
